{
 "cells": [
  {
   "cell_type": "code",
   "execution_count": 1,
   "metadata": {},
   "outputs": [],
   "source": [
    "import pandas as pd\n",
    "import numpy as np\n",
    "import seaborn as sns\n",
    "import matplotlib.pyplot as plt\n",
    "import warnings\n",
    "warnings.filterwarnings(\"ignore\")\n",
    "\n",
    "# Splitting Data\n",
    "from sklearn.model_selection import train_test_split, cross_val_score, StratifiedKFold, GridSearchCV\n",
    "\n",
    "# Modeling, Fitting and Evaluation\n",
    "from sklearn.pipeline import Pipeline\n",
    "from sklearn.preprocessing import StandardScaler\n",
    "from sklearn.linear_model import LogisticRegression\n",
    "from sklearn.tree import DecisionTreeClassifier\n",
    "from sklearn.neighbors import KNeighborsClassifier\n",
    "from sklearn.metrics import classification_report, f1_score\n",
    "\n",
    "# Resampling\n",
    "from imblearn.over_sampling import RandomOverSampler, SMOTE\n",
    "from imblearn.under_sampling import RandomUnderSampler, NearMiss\n",
    "from imblearn.pipeline import Pipeline"
   ]
  },
  {
   "cell_type": "code",
   "execution_count": 2,
   "metadata": {},
   "outputs": [
    {
     "data": {
      "text/html": [
       "<div>\n",
       "<style scoped>\n",
       "    .dataframe tbody tr th:only-of-type {\n",
       "        vertical-align: middle;\n",
       "    }\n",
       "\n",
       "    .dataframe tbody tr th {\n",
       "        vertical-align: top;\n",
       "    }\n",
       "\n",
       "    .dataframe thead th {\n",
       "        text-align: right;\n",
       "    }\n",
       "</style>\n",
       "<table border=\"1\" class=\"dataframe\">\n",
       "  <thead>\n",
       "    <tr style=\"text-align: right;\">\n",
       "      <th></th>\n",
       "      <th>age</th>\n",
       "      <th>ed</th>\n",
       "      <th>employ</th>\n",
       "      <th>address</th>\n",
       "      <th>income</th>\n",
       "      <th>debtinc</th>\n",
       "      <th>creddebt</th>\n",
       "      <th>othdebt</th>\n",
       "      <th>default</th>\n",
       "    </tr>\n",
       "  </thead>\n",
       "  <tbody>\n",
       "    <tr>\n",
       "      <th>0</th>\n",
       "      <td>41</td>\n",
       "      <td>3</td>\n",
       "      <td>17</td>\n",
       "      <td>12</td>\n",
       "      <td>176</td>\n",
       "      <td>9.3</td>\n",
       "      <td>11.359392</td>\n",
       "      <td>5.008608</td>\n",
       "      <td>1</td>\n",
       "    </tr>\n",
       "    <tr>\n",
       "      <th>1</th>\n",
       "      <td>27</td>\n",
       "      <td>1</td>\n",
       "      <td>10</td>\n",
       "      <td>6</td>\n",
       "      <td>31</td>\n",
       "      <td>17.3</td>\n",
       "      <td>1.362202</td>\n",
       "      <td>4.000798</td>\n",
       "      <td>0</td>\n",
       "    </tr>\n",
       "    <tr>\n",
       "      <th>2</th>\n",
       "      <td>40</td>\n",
       "      <td>1</td>\n",
       "      <td>15</td>\n",
       "      <td>14</td>\n",
       "      <td>55</td>\n",
       "      <td>5.5</td>\n",
       "      <td>0.856075</td>\n",
       "      <td>2.168925</td>\n",
       "      <td>0</td>\n",
       "    </tr>\n",
       "    <tr>\n",
       "      <th>3</th>\n",
       "      <td>41</td>\n",
       "      <td>1</td>\n",
       "      <td>15</td>\n",
       "      <td>14</td>\n",
       "      <td>120</td>\n",
       "      <td>2.9</td>\n",
       "      <td>2.658720</td>\n",
       "      <td>0.821280</td>\n",
       "      <td>0</td>\n",
       "    </tr>\n",
       "    <tr>\n",
       "      <th>4</th>\n",
       "      <td>24</td>\n",
       "      <td>2</td>\n",
       "      <td>2</td>\n",
       "      <td>0</td>\n",
       "      <td>28</td>\n",
       "      <td>17.3</td>\n",
       "      <td>1.787436</td>\n",
       "      <td>3.056564</td>\n",
       "      <td>1</td>\n",
       "    </tr>\n",
       "    <tr>\n",
       "      <th>...</th>\n",
       "      <td>...</td>\n",
       "      <td>...</td>\n",
       "      <td>...</td>\n",
       "      <td>...</td>\n",
       "      <td>...</td>\n",
       "      <td>...</td>\n",
       "      <td>...</td>\n",
       "      <td>...</td>\n",
       "      <td>...</td>\n",
       "    </tr>\n",
       "    <tr>\n",
       "      <th>695</th>\n",
       "      <td>36</td>\n",
       "      <td>2</td>\n",
       "      <td>6</td>\n",
       "      <td>15</td>\n",
       "      <td>27</td>\n",
       "      <td>4.6</td>\n",
       "      <td>0.262062</td>\n",
       "      <td>0.979938</td>\n",
       "      <td>1</td>\n",
       "    </tr>\n",
       "    <tr>\n",
       "      <th>696</th>\n",
       "      <td>29</td>\n",
       "      <td>2</td>\n",
       "      <td>6</td>\n",
       "      <td>4</td>\n",
       "      <td>21</td>\n",
       "      <td>11.5</td>\n",
       "      <td>0.369495</td>\n",
       "      <td>2.045505</td>\n",
       "      <td>0</td>\n",
       "    </tr>\n",
       "    <tr>\n",
       "      <th>697</th>\n",
       "      <td>33</td>\n",
       "      <td>1</td>\n",
       "      <td>15</td>\n",
       "      <td>3</td>\n",
       "      <td>32</td>\n",
       "      <td>7.6</td>\n",
       "      <td>0.491264</td>\n",
       "      <td>1.940736</td>\n",
       "      <td>0</td>\n",
       "    </tr>\n",
       "    <tr>\n",
       "      <th>698</th>\n",
       "      <td>45</td>\n",
       "      <td>1</td>\n",
       "      <td>19</td>\n",
       "      <td>22</td>\n",
       "      <td>77</td>\n",
       "      <td>8.4</td>\n",
       "      <td>2.302608</td>\n",
       "      <td>4.165392</td>\n",
       "      <td>0</td>\n",
       "    </tr>\n",
       "    <tr>\n",
       "      <th>699</th>\n",
       "      <td>37</td>\n",
       "      <td>1</td>\n",
       "      <td>12</td>\n",
       "      <td>14</td>\n",
       "      <td>44</td>\n",
       "      <td>14.7</td>\n",
       "      <td>2.994684</td>\n",
       "      <td>3.473316</td>\n",
       "      <td>0</td>\n",
       "    </tr>\n",
       "  </tbody>\n",
       "</table>\n",
       "<p>700 rows × 9 columns</p>\n",
       "</div>"
      ],
      "text/plain": [
       "     age  ed  employ  address  income  debtinc   creddebt   othdebt  default\n",
       "0     41   3      17       12     176      9.3  11.359392  5.008608        1\n",
       "1     27   1      10        6      31     17.3   1.362202  4.000798        0\n",
       "2     40   1      15       14      55      5.5   0.856075  2.168925        0\n",
       "3     41   1      15       14     120      2.9   2.658720  0.821280        0\n",
       "4     24   2       2        0      28     17.3   1.787436  3.056564        1\n",
       "..   ...  ..     ...      ...     ...      ...        ...       ...      ...\n",
       "695   36   2       6       15      27      4.6   0.262062  0.979938        1\n",
       "696   29   2       6        4      21     11.5   0.369495  2.045505        0\n",
       "697   33   1      15        3      32      7.6   0.491264  1.940736        0\n",
       "698   45   1      19       22      77      8.4   2.302608  4.165392        0\n",
       "699   37   1      12       14      44     14.7   2.994684  3.473316        0\n",
       "\n",
       "[700 rows x 9 columns]"
      ]
     },
     "execution_count": 2,
     "metadata": {},
     "output_type": "execute_result"
    }
   ],
   "source": [
    "bankloan = pd.read_csv('/Users/zaki/Downloads/bankloan.csv')\n",
    "bankloan"
   ]
  },
  {
   "cell_type": "code",
   "execution_count": 3,
   "metadata": {},
   "outputs": [],
   "source": [
    "X = bankloan[['employ', 'debtinc', 'creddebt', 'othdebt']]\n",
    "y = bankloan['default']"
   ]
  },
  {
   "cell_type": "code",
   "execution_count": 4,
   "metadata": {},
   "outputs": [],
   "source": [
    "X_train_val, X_test, y_train_val, y_test = train_test_split(X,y, stratify = y, test_size = 0.2, random_state = 1899)"
   ]
  },
  {
   "cell_type": "markdown",
   "metadata": {},
   "source": [
    "**Cross Validation**"
   ]
  },
  {
   "cell_type": "code",
   "execution_count": 5,
   "metadata": {},
   "outputs": [],
   "source": [
    "logreg = LogisticRegression()\n",
    "tree = DecisionTreeClassifier(random_state = 1899)\n",
    "knn = KNeighborsClassifier()"
   ]
  },
  {
   "cell_type": "code",
   "execution_count": 6,
   "metadata": {},
   "outputs": [],
   "source": [
    "logreg_pipe_scale = Pipeline([\n",
    "    ('scale', StandardScaler()),\n",
    "    ('logreg', logreg)\n",
    "])\n",
    "\n",
    "tree_pipe_scale = Pipeline([\n",
    "    ('tree', tree)\n",
    "])\n",
    "\n",
    "knn_pipe_scale = Pipeline([\n",
    "    ('scale', StandardScaler()),\n",
    "    ('knn', knn)\n",
    "])"
   ]
  },
  {
   "cell_type": "code",
   "execution_count": 7,
   "metadata": {},
   "outputs": [],
   "source": [
    "def model_evaluation(model, metric):\n",
    "    skfold = StratifiedKFold(n_splits = 5)\n",
    "    model_cv = cross_val_score(model, X_train_val, y_train_val, cv = skfold, scoring = metric)\n",
    "    return model_cv"
   ]
  },
  {
   "cell_type": "code",
   "execution_count": 8,
   "metadata": {},
   "outputs": [],
   "source": [
    "def print_result(model_cv):\n",
    "    print('cv score', model_cv)\n",
    "    print('cv score mean', model_cv.mean())"
   ]
  },
  {
   "cell_type": "code",
   "execution_count": 9,
   "metadata": {},
   "outputs": [
    {
     "name": "stdout",
     "output_type": "stream",
     "text": [
      "cv score [0.5        0.6122449  0.53333333 0.70833333 0.47058824]\n",
      "cv score mean 0.5648999599839936\n"
     ]
    }
   ],
   "source": [
    "logreg_scale_cv = model_evaluation(logreg_pipe_scale, 'f1')\n",
    "print_result(logreg_scale_cv)"
   ]
  },
  {
   "cell_type": "code",
   "execution_count": 10,
   "metadata": {},
   "outputs": [
    {
     "name": "stdout",
     "output_type": "stream",
     "text": [
      "              precision    recall  f1-score   support\n",
      "\n",
      "           0       0.82      0.94      0.87       103\n",
      "           1       0.71      0.41      0.52        37\n",
      "\n",
      "    accuracy                           0.80       140\n",
      "   macro avg       0.76      0.67      0.70       140\n",
      "weighted avg       0.79      0.80      0.78       140\n",
      "\n"
     ]
    }
   ],
   "source": [
    "logreg_pipe_scale.fit(X_train_val, y_train_val)\n",
    "y_pred_logreg = logreg_pipe_scale.predict(X_test)\n",
    "print(classification_report(y_test, y_pred_logreg))"
   ]
  },
  {
   "cell_type": "code",
   "execution_count": 11,
   "metadata": {},
   "outputs": [
    {
     "name": "stdout",
     "output_type": "stream",
     "text": [
      "cv score [0.49180328 0.42857143 0.46666667 0.56140351 0.46428571]\n",
      "cv score mean 0.4825461193968528\n"
     ]
    }
   ],
   "source": [
    "tree_scale_cv = model_evaluation(tree_pipe_scale, 'f1')\n",
    "print_result(tree_scale_cv)"
   ]
  },
  {
   "cell_type": "code",
   "execution_count": 12,
   "metadata": {},
   "outputs": [
    {
     "name": "stdout",
     "output_type": "stream",
     "text": [
      "              precision    recall  f1-score   support\n",
      "\n",
      "           0       0.78      0.75      0.76       103\n",
      "           1       0.37      0.41      0.38        37\n",
      "\n",
      "    accuracy                           0.66       140\n",
      "   macro avg       0.57      0.58      0.57       140\n",
      "weighted avg       0.67      0.66      0.66       140\n",
      "\n"
     ]
    }
   ],
   "source": [
    "tree_pipe_scale.fit(X_train_val, y_train_val)\n",
    "y_pred_tree = tree_pipe_scale.predict(X_test)\n",
    "print(classification_report(y_test, y_pred_tree))"
   ]
  },
  {
   "cell_type": "code",
   "execution_count": 13,
   "metadata": {},
   "outputs": [
    {
     "name": "stdout",
     "output_type": "stream",
     "text": [
      "cv score [0.44       0.46511628 0.4        0.6        0.29787234]\n",
      "cv score mean 0.44059772389906\n"
     ]
    }
   ],
   "source": [
    "knn_scale_cv = model_evaluation(knn_pipe_scale, 'f1')\n",
    "print_result(knn_scale_cv)"
   ]
  },
  {
   "cell_type": "code",
   "execution_count": 14,
   "metadata": {},
   "outputs": [
    {
     "name": "stdout",
     "output_type": "stream",
     "text": [
      "              precision    recall  f1-score   support\n",
      "\n",
      "           0       0.82      0.88      0.85       103\n",
      "           1       0.59      0.46      0.52        37\n",
      "\n",
      "    accuracy                           0.77       140\n",
      "   macro avg       0.70      0.67      0.68       140\n",
      "weighted avg       0.76      0.77      0.76       140\n",
      "\n"
     ]
    }
   ],
   "source": [
    "knn_pipe_scale.fit(X_train_val, y_train_val)\n",
    "y_pred_knn = knn_pipe_scale.predict(X_test)\n",
    "print(classification_report(y_test, y_pred_knn))"
   ]
  },
  {
   "cell_type": "markdown",
   "metadata": {},
   "source": [
    "**Resampling: UnderSampling**"
   ]
  },
  {
   "cell_type": "code",
   "execution_count": 15,
   "metadata": {},
   "outputs": [],
   "source": [
    "rus = RandomUnderSampler(random_state = 1899)\n",
    "X_under, y_under = rus.fit_resample(X_train_val, y_train_val)"
   ]
  },
  {
   "cell_type": "code",
   "execution_count": 16,
   "metadata": {},
   "outputs": [],
   "source": [
    "logreg_pipe_scale_rus = Pipeline([\n",
    "    ('scale', StandardScaler()),\n",
    "    ('rus', rus),\n",
    "    ('logreg', logreg)\n",
    "])\n",
    "\n",
    "tree_pipe_scale_rus = Pipeline([\n",
    "    ('rus', rus),\n",
    "    ('tree', tree)\n",
    "])\n",
    "\n",
    "knn_pipe_scale_rus = Pipeline([\n",
    "    ('scale', StandardScaler()),\n",
    "    ('rus', rus),\n",
    "    ('knn', knn)\n",
    "])"
   ]
  },
  {
   "cell_type": "code",
   "execution_count": 17,
   "metadata": {},
   "outputs": [],
   "source": [
    "def model_evaluation(model, metric):\n",
    "    skfold = StratifiedKFold(n_splits = 5)\n",
    "    model_cv = cross_val_score(model, X_under, y_under, cv = skfold, scoring = metric)\n",
    "    return model_cv"
   ]
  },
  {
   "cell_type": "code",
   "execution_count": 18,
   "metadata": {},
   "outputs": [],
   "source": [
    "def print_result(model_cv):\n",
    "    print('cv score', model_cv)\n",
    "    print('cv score mean', model_cv.mean())"
   ]
  },
  {
   "cell_type": "code",
   "execution_count": 19,
   "metadata": {},
   "outputs": [
    {
     "name": "stdout",
     "output_type": "stream",
     "text": [
      "cv score [0.73015873 0.73333333 0.78571429 0.78571429 0.74509804]\n",
      "cv score mean 0.7560037348272642\n"
     ]
    }
   ],
   "source": [
    "logreg_scale_rus_cv = model_evaluation(logreg_pipe_scale_rus, 'f1')\n",
    "print_result(logreg_scale_rus_cv)"
   ]
  },
  {
   "cell_type": "code",
   "execution_count": 20,
   "metadata": {},
   "outputs": [
    {
     "name": "stdout",
     "output_type": "stream",
     "text": [
      "              precision    recall  f1-score   support\n",
      "\n",
      "           0       0.90      0.69      0.78       103\n",
      "           1       0.48      0.78      0.59        37\n",
      "\n",
      "    accuracy                           0.71       140\n",
      "   macro avg       0.69      0.74      0.69       140\n",
      "weighted avg       0.79      0.71      0.73       140\n",
      "\n"
     ]
    }
   ],
   "source": [
    "logreg_pipe_scale_rus.fit(X_train_val, y_train_val)\n",
    "y_pred_logreg_rus = logreg_pipe_scale_rus.predict(X_test)\n",
    "print(classification_report(y_test, y_pred_logreg_rus))"
   ]
  },
  {
   "cell_type": "code",
   "execution_count": 21,
   "metadata": {},
   "outputs": [
    {
     "name": "stdout",
     "output_type": "stream",
     "text": [
      "cv score [0.64615385 0.68965517 0.6        0.73846154 0.60714286]\n",
      "cv score mean 0.656282682834407\n"
     ]
    }
   ],
   "source": [
    "tree_scale_rus_cv = model_evaluation(tree_pipe_scale_rus, 'f1')\n",
    "print_result(tree_scale_rus_cv)"
   ]
  },
  {
   "cell_type": "code",
   "execution_count": 22,
   "metadata": {},
   "outputs": [
    {
     "name": "stdout",
     "output_type": "stream",
     "text": [
      "              precision    recall  f1-score   support\n",
      "\n",
      "           0       0.78      0.59      0.67       103\n",
      "           1       0.32      0.54      0.40        37\n",
      "\n",
      "    accuracy                           0.58       140\n",
      "   macro avg       0.55      0.57      0.54       140\n",
      "weighted avg       0.66      0.58      0.60       140\n",
      "\n"
     ]
    }
   ],
   "source": [
    "tree_pipe_scale_rus.fit(X_train_val, y_train_val)\n",
    "y_pred_tree_rus = tree_pipe_scale_rus.predict(X_test)\n",
    "print(classification_report(y_test, y_pred_tree_rus))"
   ]
  },
  {
   "cell_type": "code",
   "execution_count": 23,
   "metadata": {},
   "outputs": [
    {
     "name": "stdout",
     "output_type": "stream",
     "text": [
      "cv score [0.70769231 0.67692308 0.74074074 0.78688525 0.66666667]\n",
      "cv score mean 0.7157816075848864\n"
     ]
    }
   ],
   "source": [
    "knn_scale_rus_cv = model_evaluation(knn_pipe_scale_rus, 'f1')\n",
    "print_result(knn_scale_rus_cv)"
   ]
  },
  {
   "cell_type": "code",
   "execution_count": 24,
   "metadata": {},
   "outputs": [
    {
     "name": "stdout",
     "output_type": "stream",
     "text": [
      "              precision    recall  f1-score   support\n",
      "\n",
      "           0       0.88      0.70      0.78       103\n",
      "           1       0.47      0.73      0.57        37\n",
      "\n",
      "    accuracy                           0.71       140\n",
      "   macro avg       0.67      0.71      0.67       140\n",
      "weighted avg       0.77      0.71      0.72       140\n",
      "\n"
     ]
    }
   ],
   "source": [
    "knn_pipe_scale_rus.fit(X_train_val, y_train_val)\n",
    "y_pred_knn_rus = knn_pipe_scale_rus.predict(X_test)\n",
    "print(classification_report(y_test, y_pred_knn_rus))"
   ]
  },
  {
   "cell_type": "markdown",
   "metadata": {},
   "source": [
    "**Resampling: OverSampling**"
   ]
  },
  {
   "cell_type": "code",
   "execution_count": 25,
   "metadata": {},
   "outputs": [],
   "source": [
    "ros = RandomOverSampler(random_state = 1899)\n",
    "X_over, y_over = ros.fit_resample(X_train_val, y_train_val)"
   ]
  },
  {
   "cell_type": "code",
   "execution_count": 26,
   "metadata": {},
   "outputs": [],
   "source": [
    "logreg_pipe_scale_ros = Pipeline([\n",
    "    ('scale', StandardScaler()),\n",
    "    ('ros', ros),\n",
    "    ('logreg', logreg)\n",
    "])\n",
    "\n",
    "tree_pipe_scale_ros = Pipeline([\n",
    "    ('ros', ros),\n",
    "    ('tree', tree)\n",
    "])\n",
    "\n",
    "knn_pipe_scale_ros = Pipeline([\n",
    "    ('scale', StandardScaler()),\n",
    "    ('ros', ros),\n",
    "    ('knn', knn)\n",
    "])"
   ]
  },
  {
   "cell_type": "code",
   "execution_count": 27,
   "metadata": {},
   "outputs": [],
   "source": [
    "def model_evaluation(model, metric):\n",
    "    skfold = StratifiedKFold(n_splits = 5)\n",
    "    model_cv = cross_val_score(model, X_over, y_over, cv = skfold, scoring = metric)\n",
    "    return model_cv"
   ]
  },
  {
   "cell_type": "code",
   "execution_count": 28,
   "metadata": {},
   "outputs": [],
   "source": [
    "def print_result(model_cv):\n",
    "    print('cv score', model_cv)\n",
    "    print('cv score mean', model_cv.mean())"
   ]
  },
  {
   "cell_type": "code",
   "execution_count": 29,
   "metadata": {},
   "outputs": [
    {
     "name": "stdout",
     "output_type": "stream",
     "text": [
      "cv score [0.70520231 0.76923077 0.79532164 0.73972603 0.75903614]\n",
      "cv score mean 0.7537033781543944\n"
     ]
    }
   ],
   "source": [
    "logreg_scale_ros_cv = model_evaluation(logreg_pipe_scale_ros, 'f1')\n",
    "print_result(logreg_scale_ros_cv)"
   ]
  },
  {
   "cell_type": "code",
   "execution_count": 30,
   "metadata": {},
   "outputs": [
    {
     "name": "stdout",
     "output_type": "stream",
     "text": [
      "              precision    recall  f1-score   support\n",
      "\n",
      "           0       0.91      0.71      0.80       103\n",
      "           1       0.50      0.81      0.62        37\n",
      "\n",
      "    accuracy                           0.74       140\n",
      "   macro avg       0.71      0.76      0.71       140\n",
      "weighted avg       0.80      0.74      0.75       140\n",
      "\n"
     ]
    }
   ],
   "source": [
    "logreg_pipe_scale_ros.fit(X_train_val, y_train_val)\n",
    "y_pred_logreg_ros = logreg_pipe_scale_ros.predict(X_test)\n",
    "print(classification_report(y_test, y_pred_logreg_ros))"
   ]
  },
  {
   "cell_type": "code",
   "execution_count": 31,
   "metadata": {},
   "outputs": [
    {
     "name": "stdout",
     "output_type": "stream",
     "text": [
      "cv score [0.86363636 0.87719298 0.92222222 0.9010989  0.88770053]\n",
      "cv score mean 0.8903702008345971\n"
     ]
    }
   ],
   "source": [
    "tree_scale_ros_cv = model_evaluation(tree_pipe_scale_ros, 'f1')\n",
    "print_result(tree_scale_ros_cv)"
   ]
  },
  {
   "cell_type": "code",
   "execution_count": 32,
   "metadata": {},
   "outputs": [
    {
     "name": "stdout",
     "output_type": "stream",
     "text": [
      "              precision    recall  f1-score   support\n",
      "\n",
      "           0       0.81      0.80      0.80       103\n",
      "           1       0.46      0.49      0.47        37\n",
      "\n",
      "    accuracy                           0.71       140\n",
      "   macro avg       0.64      0.64      0.64       140\n",
      "weighted avg       0.72      0.71      0.72       140\n",
      "\n"
     ]
    }
   ],
   "source": [
    "tree_pipe_scale_ros.fit(X_train_val, y_train_val)\n",
    "y_pred_tree_ros = tree_pipe_scale_ros.predict(X_test)\n",
    "print(classification_report(y_test, y_pred_tree_ros))"
   ]
  },
  {
   "cell_type": "code",
   "execution_count": 33,
   "metadata": {},
   "outputs": [
    {
     "name": "stdout",
     "output_type": "stream",
     "text": [
      "cv score [0.71676301 0.77192982 0.78212291 0.77575758 0.77777778]\n",
      "cv score mean 0.7648702177810074\n"
     ]
    }
   ],
   "source": [
    "knn_scale_ros_cv = model_evaluation(knn_pipe_scale_ros, 'f1')\n",
    "print_result(knn_scale_ros_cv)"
   ]
  },
  {
   "cell_type": "code",
   "execution_count": 34,
   "metadata": {},
   "outputs": [
    {
     "name": "stdout",
     "output_type": "stream",
     "text": [
      "              precision    recall  f1-score   support\n",
      "\n",
      "           0       0.89      0.73      0.80       103\n",
      "           1       0.50      0.76      0.60        37\n",
      "\n",
      "    accuracy                           0.74       140\n",
      "   macro avg       0.70      0.74      0.70       140\n",
      "weighted avg       0.79      0.74      0.75       140\n",
      "\n"
     ]
    }
   ],
   "source": [
    "knn_pipe_scale_ros.fit(X_train_val, y_train_val)\n",
    "y_pred_knn_ros = knn_pipe_scale_ros.predict(X_test)\n",
    "print(classification_report(y_test, y_pred_knn_ros))"
   ]
  },
  {
   "cell_type": "markdown",
   "metadata": {},
   "source": [
    "**Resampling: SMOTE**"
   ]
  },
  {
   "cell_type": "code",
   "execution_count": 35,
   "metadata": {},
   "outputs": [],
   "source": [
    "smote = SMOTE(random_state = 1899)\n",
    "X_smote, y_smote = smote.fit_resample(X_train_val, y_train_val)"
   ]
  },
  {
   "cell_type": "code",
   "execution_count": 36,
   "metadata": {},
   "outputs": [],
   "source": [
    "logreg_pipe_scale_smote = Pipeline([\n",
    "    ('scale', StandardScaler()),\n",
    "    ('smote', smote),\n",
    "    ('logreg', logreg)\n",
    "])\n",
    "\n",
    "tree_pipe_scale_smote = Pipeline([\n",
    "    ('smote', smote),\n",
    "    ('tree', tree)\n",
    "])\n",
    "\n",
    "knn_pipe_scale_smote = Pipeline([\n",
    "    ('scale', StandardScaler()),\n",
    "    ('smote', smote),\n",
    "    ('knn', knn)\n",
    "])"
   ]
  },
  {
   "cell_type": "code",
   "execution_count": 37,
   "metadata": {},
   "outputs": [],
   "source": [
    "def model_evaluation(model, metric):\n",
    "    skfold = StratifiedKFold(n_splits = 5)\n",
    "    model_cv = cross_val_score(model, X_smote, y_smote, cv = skfold, scoring = metric)\n",
    "    return model_cv"
   ]
  },
  {
   "cell_type": "code",
   "execution_count": 38,
   "metadata": {},
   "outputs": [],
   "source": [
    "def print_result(model_cv):\n",
    "    print('cv score', model_cv)\n",
    "    print('cv score mean', model_cv.mean())"
   ]
  },
  {
   "cell_type": "code",
   "execution_count": 39,
   "metadata": {},
   "outputs": [
    {
     "name": "stdout",
     "output_type": "stream",
     "text": [
      "cv score [0.72       0.75       0.725      0.81290323 0.74698795]\n",
      "cv score mean 0.7509782355227361\n"
     ]
    }
   ],
   "source": [
    "logreg_scale_smote_cv = model_evaluation(logreg_pipe_scale_smote, 'f1')\n",
    "print_result(logreg_scale_smote_cv)"
   ]
  },
  {
   "cell_type": "code",
   "execution_count": 40,
   "metadata": {},
   "outputs": [
    {
     "name": "stdout",
     "output_type": "stream",
     "text": [
      "              precision    recall  f1-score   support\n",
      "\n",
      "           0       0.95      0.72      0.82       103\n",
      "           1       0.53      0.89      0.67        37\n",
      "\n",
      "    accuracy                           0.76       140\n",
      "   macro avg       0.74      0.81      0.74       140\n",
      "weighted avg       0.84      0.76      0.78       140\n",
      "\n"
     ]
    }
   ],
   "source": [
    "logreg_pipe_scale_smote.fit(X_train_val, y_train_val)\n",
    "y_pred_logreg_smote = logreg_pipe_scale_smote.predict(X_test)\n",
    "print(classification_report(y_test, y_pred_logreg_smote))"
   ]
  },
  {
   "cell_type": "code",
   "execution_count": 41,
   "metadata": {},
   "outputs": [
    {
     "name": "stdout",
     "output_type": "stream",
     "text": [
      "cv score [0.69512195 0.78571429 0.77894737 0.80722892 0.79310345]\n",
      "cv score mean 0.7720231938586726\n"
     ]
    }
   ],
   "source": [
    "tree_scale_smote_cv = model_evaluation(tree_pipe_scale_smote, 'f1')\n",
    "print_result(tree_scale_smote_cv)"
   ]
  },
  {
   "cell_type": "code",
   "execution_count": 42,
   "metadata": {},
   "outputs": [
    {
     "name": "stdout",
     "output_type": "stream",
     "text": [
      "              precision    recall  f1-score   support\n",
      "\n",
      "           0       0.82      0.76      0.79       103\n",
      "           1       0.44      0.54      0.49        37\n",
      "\n",
      "    accuracy                           0.70       140\n",
      "   macro avg       0.63      0.65      0.64       140\n",
      "weighted avg       0.72      0.70      0.71       140\n",
      "\n"
     ]
    }
   ],
   "source": [
    "tree_pipe_scale_smote.fit(X_train_val, y_train_val)\n",
    "y_pred_tree_smote = tree_pipe_scale_smote.predict(X_test)\n",
    "print(classification_report(y_test, y_pred_tree_smote))"
   ]
  },
  {
   "cell_type": "code",
   "execution_count": 43,
   "metadata": {},
   "outputs": [
    {
     "name": "stdout",
     "output_type": "stream",
     "text": [
      "cv score [0.76300578 0.82222222 0.83428571 0.83977901 0.83870968]\n",
      "cv score mean 0.8196004799597947\n"
     ]
    }
   ],
   "source": [
    "knn_scale_smote_cv = model_evaluation(knn_pipe_scale_smote, 'f1')\n",
    "print_result(knn_scale_smote_cv)"
   ]
  },
  {
   "cell_type": "code",
   "execution_count": 44,
   "metadata": {},
   "outputs": [
    {
     "name": "stdout",
     "output_type": "stream",
     "text": [
      "              precision    recall  f1-score   support\n",
      "\n",
      "           0       0.91      0.77      0.83       103\n",
      "           1       0.55      0.78      0.64        37\n",
      "\n",
      "    accuracy                           0.77       140\n",
      "   macro avg       0.73      0.78      0.74       140\n",
      "weighted avg       0.81      0.77      0.78       140\n",
      "\n"
     ]
    }
   ],
   "source": [
    "knn_pipe_scale_smote.fit(X_train_val, y_train_val)\n",
    "y_pred_knn_smote = knn_pipe_scale_smote.predict(X_test)\n",
    "print(classification_report(y_test, y_pred_knn_smote))"
   ]
  },
  {
   "cell_type": "markdown",
   "metadata": {},
   "source": [
    "# Summary"
   ]
  },
  {
   "cell_type": "markdown",
   "metadata": {},
   "source": [
    "**Logistic Regression Model**"
   ]
  },
  {
   "cell_type": "code",
   "execution_count": 45,
   "metadata": {},
   "outputs": [],
   "source": [
    "f1_logreg = f1_score(y_test, y_pred_logreg)\n",
    "f1_logreg_scale_under = f1_score(y_test, y_pred_logreg_rus)\n",
    "f1_logreg_scale_over = f1_score(y_test, y_pred_logreg_ros)\n",
    "f1_logreg_scale_smote = f1_score(y_test, y_pred_logreg_smote)"
   ]
  },
  {
   "cell_type": "code",
   "execution_count": 46,
   "metadata": {},
   "outputs": [
    {
     "data": {
      "text/html": [
       "<div>\n",
       "<style scoped>\n",
       "    .dataframe tbody tr th:only-of-type {\n",
       "        vertical-align: middle;\n",
       "    }\n",
       "\n",
       "    .dataframe tbody tr th {\n",
       "        vertical-align: top;\n",
       "    }\n",
       "\n",
       "    .dataframe thead th {\n",
       "        text-align: right;\n",
       "    }\n",
       "</style>\n",
       "<table border=\"1\" class=\"dataframe\">\n",
       "  <thead>\n",
       "    <tr style=\"text-align: right;\">\n",
       "      <th></th>\n",
       "      <th>method</th>\n",
       "      <th>score</th>\n",
       "    </tr>\n",
       "  </thead>\n",
       "  <tbody>\n",
       "    <tr>\n",
       "      <th>0</th>\n",
       "      <td>f1 Score Logreg</td>\n",
       "      <td>0.517241</td>\n",
       "    </tr>\n",
       "    <tr>\n",
       "      <th>1</th>\n",
       "      <td>f1 Score Logreg Undersampling</td>\n",
       "      <td>0.591837</td>\n",
       "    </tr>\n",
       "    <tr>\n",
       "      <th>2</th>\n",
       "      <td>f1 Score Logreg Oversampling</td>\n",
       "      <td>0.618557</td>\n",
       "    </tr>\n",
       "    <tr>\n",
       "      <th>3</th>\n",
       "      <td>f1 Score Logreg SMOTE</td>\n",
       "      <td>0.666667</td>\n",
       "    </tr>\n",
       "  </tbody>\n",
       "</table>\n",
       "</div>"
      ],
      "text/plain": [
       "                          method     score\n",
       "0                f1 Score Logreg  0.517241\n",
       "1  f1 Score Logreg Undersampling  0.591837\n",
       "2   f1 Score Logreg Oversampling  0.618557\n",
       "3          f1 Score Logreg SMOTE  0.666667"
      ]
     },
     "execution_count": 46,
     "metadata": {},
     "output_type": "execute_result"
    }
   ],
   "source": [
    "score_list = [f1_logreg, f1_logreg_scale_under, f1_logreg_scale_over, f1_logreg_scale_smote]\n",
    "method_name = ['f1 Score Logreg', 'f1 Score Logreg Undersampling', \n",
    "              'f1 Score Logreg Oversampling', 'f1 Score Logreg SMOTE']\n",
    "summary = pd.DataFrame({\n",
    "    'method': method_name,\n",
    "    'score': score_list\n",
    "})\n",
    "summary"
   ]
  },
  {
   "cell_type": "markdown",
   "metadata": {},
   "source": [
    "**Decision Tree Classifier Model**"
   ]
  },
  {
   "cell_type": "code",
   "execution_count": 47,
   "metadata": {},
   "outputs": [],
   "source": [
    "f1_tree = f1_score(y_test, y_pred_tree)\n",
    "f1_tree_scale_under = f1_score(y_test, y_pred_tree_rus)\n",
    "f1_tree_scale_over = f1_score(y_test, y_pred_tree_ros)\n",
    "f1_tree_scale_smote = f1_score(y_test, y_pred_tree_smote)"
   ]
  },
  {
   "cell_type": "code",
   "execution_count": 48,
   "metadata": {},
   "outputs": [
    {
     "data": {
      "text/html": [
       "<div>\n",
       "<style scoped>\n",
       "    .dataframe tbody tr th:only-of-type {\n",
       "        vertical-align: middle;\n",
       "    }\n",
       "\n",
       "    .dataframe tbody tr th {\n",
       "        vertical-align: top;\n",
       "    }\n",
       "\n",
       "    .dataframe thead th {\n",
       "        text-align: right;\n",
       "    }\n",
       "</style>\n",
       "<table border=\"1\" class=\"dataframe\">\n",
       "  <thead>\n",
       "    <tr style=\"text-align: right;\">\n",
       "      <th></th>\n",
       "      <th>method</th>\n",
       "      <th>score</th>\n",
       "    </tr>\n",
       "  </thead>\n",
       "  <tbody>\n",
       "    <tr>\n",
       "      <th>0</th>\n",
       "      <td>f1 Score Tree</td>\n",
       "      <td>0.384615</td>\n",
       "    </tr>\n",
       "    <tr>\n",
       "      <th>1</th>\n",
       "      <td>f1 Score Tree Undersampling</td>\n",
       "      <td>0.404040</td>\n",
       "    </tr>\n",
       "    <tr>\n",
       "      <th>2</th>\n",
       "      <td>f1 Score Tree Oversampling</td>\n",
       "      <td>0.473684</td>\n",
       "    </tr>\n",
       "    <tr>\n",
       "      <th>3</th>\n",
       "      <td>f1 Score Tree SMOTE</td>\n",
       "      <td>0.487805</td>\n",
       "    </tr>\n",
       "  </tbody>\n",
       "</table>\n",
       "</div>"
      ],
      "text/plain": [
       "                        method     score\n",
       "0                f1 Score Tree  0.384615\n",
       "1  f1 Score Tree Undersampling  0.404040\n",
       "2   f1 Score Tree Oversampling  0.473684\n",
       "3          f1 Score Tree SMOTE  0.487805"
      ]
     },
     "execution_count": 48,
     "metadata": {},
     "output_type": "execute_result"
    }
   ],
   "source": [
    "score_list = [f1_tree, f1_tree_scale_under, f1_tree_scale_over, f1_tree_scale_smote]\n",
    "method_name = ['f1 Score Tree', 'f1 Score Tree Undersampling', \n",
    "              'f1 Score Tree Oversampling', 'f1 Score Tree SMOTE']\n",
    "summary = pd.DataFrame({\n",
    "    'method': method_name,\n",
    "    'score': score_list\n",
    "})\n",
    "summary"
   ]
  },
  {
   "cell_type": "markdown",
   "metadata": {},
   "source": [
    "**KNN Classifier Model**"
   ]
  },
  {
   "cell_type": "code",
   "execution_count": 49,
   "metadata": {},
   "outputs": [],
   "source": [
    "f1_knn = f1_score(y_test, y_pred_knn)\n",
    "f1_knn_scale_under = f1_score(y_test, y_pred_knn_rus)\n",
    "f1_knn_scale_over = f1_score(y_test, y_pred_knn_ros)\n",
    "f1_knn_scale_smote = f1_score(y_test, y_pred_knn_smote)"
   ]
  },
  {
   "cell_type": "code",
   "execution_count": 50,
   "metadata": {},
   "outputs": [
    {
     "data": {
      "text/html": [
       "<div>\n",
       "<style scoped>\n",
       "    .dataframe tbody tr th:only-of-type {\n",
       "        vertical-align: middle;\n",
       "    }\n",
       "\n",
       "    .dataframe tbody tr th {\n",
       "        vertical-align: top;\n",
       "    }\n",
       "\n",
       "    .dataframe thead th {\n",
       "        text-align: right;\n",
       "    }\n",
       "</style>\n",
       "<table border=\"1\" class=\"dataframe\">\n",
       "  <thead>\n",
       "    <tr style=\"text-align: right;\">\n",
       "      <th></th>\n",
       "      <th>method</th>\n",
       "      <th>score</th>\n",
       "    </tr>\n",
       "  </thead>\n",
       "  <tbody>\n",
       "    <tr>\n",
       "      <th>0</th>\n",
       "      <td>f1 Score KNN</td>\n",
       "      <td>0.515152</td>\n",
       "    </tr>\n",
       "    <tr>\n",
       "      <th>1</th>\n",
       "      <td>f1 Score KNN Undersampling</td>\n",
       "      <td>0.568421</td>\n",
       "    </tr>\n",
       "    <tr>\n",
       "      <th>2</th>\n",
       "      <td>f1 Score KNN Oversampling</td>\n",
       "      <td>0.602151</td>\n",
       "    </tr>\n",
       "    <tr>\n",
       "      <th>3</th>\n",
       "      <td>f1 Score KNN SMOTE</td>\n",
       "      <td>0.644444</td>\n",
       "    </tr>\n",
       "  </tbody>\n",
       "</table>\n",
       "</div>"
      ],
      "text/plain": [
       "                       method     score\n",
       "0                f1 Score KNN  0.515152\n",
       "1  f1 Score KNN Undersampling  0.568421\n",
       "2   f1 Score KNN Oversampling  0.602151\n",
       "3          f1 Score KNN SMOTE  0.644444"
      ]
     },
     "execution_count": 50,
     "metadata": {},
     "output_type": "execute_result"
    }
   ],
   "source": [
    "score_list = [f1_knn, f1_knn_scale_under, f1_knn_scale_over, f1_knn_scale_smote]\n",
    "method_name = ['f1 Score KNN', 'f1 Score KNN Undersampling', \n",
    "              'f1 Score KNN Oversampling', 'f1 Score KNN SMOTE']\n",
    "summary = pd.DataFrame({\n",
    "    'method': method_name,\n",
    "    'score': score_list\n",
    "})\n",
    "summary"
   ]
  },
  {
   "cell_type": "markdown",
   "metadata": {},
   "source": [
    "# HyperParam Tuning"
   ]
  },
  {
   "cell_type": "code",
   "execution_count": 51,
   "metadata": {},
   "outputs": [],
   "source": [
    "smote = SMOTE(random_state = 1899)\n",
    "model = LogisticRegression()\n",
    "scale = StandardScaler()\n",
    "estimator = Pipeline([\n",
    "    ('scale', scale),\n",
    "    ('balancing', smote),\n",
    "    ('model', model)\n",
    "])"
   ]
  },
  {
   "cell_type": "code",
   "execution_count": 52,
   "metadata": {},
   "outputs": [],
   "source": [
    "hyperparam_space = {\n",
    "    'balancing__k_neighbors': [2, 5, 10, 15, 20],\n",
    "    'model__C': [100, 10, 1, 0.1, 0.01, 0.001],\n",
    "    'model__solver': ['liblinear', 'newton-cg', 'saga', 'lbfgs'],\n",
    "    'model__max_iter': [100, 200, 300, 400]\n",
    "}\n",
    "\n",
    "skfold = StratifiedKFold(n_splits = 5)"
   ]
  },
  {
   "cell_type": "code",
   "execution_count": 53,
   "metadata": {},
   "outputs": [],
   "source": [
    "grid_search = GridSearchCV(\n",
    "                estimator,\n",
    "                param_grid = hyperparam_space,\n",
    "                cv = skfold,\n",
    "                scoring = 'f1',\n",
    "                n_jobs = -1)"
   ]
  },
  {
   "cell_type": "code",
   "execution_count": 54,
   "metadata": {},
   "outputs": [
    {
     "data": {
      "text/plain": [
       "GridSearchCV(cv=StratifiedKFold(n_splits=5, random_state=None, shuffle=False),\n",
       "             estimator=Pipeline(steps=[('scale', StandardScaler()),\n",
       "                                       ('balancing', SMOTE(random_state=1899)),\n",
       "                                       ('model', LogisticRegression())]),\n",
       "             n_jobs=-1,\n",
       "             param_grid={'balancing__k_neighbors': [2, 5, 10, 15, 20],\n",
       "                         'model__C': [100, 10, 1, 0.1, 0.01, 0.001],\n",
       "                         'model__max_iter': [100, 200, 300, 400],\n",
       "                         'model__solver': ['liblinear', 'newton-cg', 'saga',\n",
       "                                           'lbfgs']},\n",
       "             scoring='f1')"
      ]
     },
     "execution_count": 54,
     "metadata": {},
     "output_type": "execute_result"
    }
   ],
   "source": [
    "grid_search.fit(X_train_val, y_train_val)"
   ]
  },
  {
   "cell_type": "code",
   "execution_count": 55,
   "metadata": {},
   "outputs": [
    {
     "data": {
      "text/plain": [
       "dict_keys(['memory', 'steps', 'verbose', 'scale', 'balancing', 'model', 'scale__copy', 'scale__with_mean', 'scale__with_std', 'balancing__k_neighbors', 'balancing__n_jobs', 'balancing__random_state', 'balancing__sampling_strategy', 'model__C', 'model__class_weight', 'model__dual', 'model__fit_intercept', 'model__intercept_scaling', 'model__l1_ratio', 'model__max_iter', 'model__multi_class', 'model__n_jobs', 'model__penalty', 'model__random_state', 'model__solver', 'model__tol', 'model__verbose', 'model__warm_start'])"
      ]
     },
     "execution_count": 55,
     "metadata": {},
     "output_type": "execute_result"
    }
   ],
   "source": [
    "estimator.get_params().keys()"
   ]
  },
  {
   "cell_type": "code",
   "execution_count": 56,
   "metadata": {},
   "outputs": [
    {
     "name": "stdout",
     "output_type": "stream",
     "text": [
      "best score 0.6231147457408557\n",
      "best param {'balancing__k_neighbors': 5, 'model__C': 0.1, 'model__max_iter': 100, 'model__solver': 'newton-cg'}\n"
     ]
    }
   ],
   "source": [
    "print('best score', grid_search.best_score_)\n",
    "print('best param', grid_search.best_params_)"
   ]
  },
  {
   "cell_type": "markdown",
   "metadata": {},
   "source": [
    "# Before Tuning"
   ]
  },
  {
   "cell_type": "code",
   "execution_count": 57,
   "metadata": {},
   "outputs": [],
   "source": [
    "smote = SMOTE(random_state = 1899)\n",
    "model = LogisticRegression()\n",
    "scale = StandardScaler()\n",
    "estimator = Pipeline([\n",
    "    ('scale', scale),\n",
    "    ('balancing', smote),\n",
    "    ('model', model)\n",
    "])"
   ]
  },
  {
   "cell_type": "code",
   "execution_count": 58,
   "metadata": {},
   "outputs": [
    {
     "name": "stdout",
     "output_type": "stream",
     "text": [
      "              precision    recall  f1-score   support\n",
      "\n",
      "           0       0.95      0.72      0.82       103\n",
      "           1       0.53      0.89      0.67        37\n",
      "\n",
      "    accuracy                           0.76       140\n",
      "   macro avg       0.74      0.81      0.74       140\n",
      "weighted avg       0.84      0.76      0.78       140\n",
      "\n"
     ]
    }
   ],
   "source": [
    "estimator.fit(X_train_val, y_train_val)\n",
    "y_pred = estimator.predict(X_test)\n",
    "print(classification_report(y_test, y_pred))"
   ]
  },
  {
   "cell_type": "markdown",
   "metadata": {},
   "source": [
    "# After Tuning"
   ]
  },
  {
   "cell_type": "code",
   "execution_count": 59,
   "metadata": {},
   "outputs": [
    {
     "name": "stdout",
     "output_type": "stream",
     "text": [
      "              precision    recall  f1-score   support\n",
      "\n",
      "           0       0.92      0.71      0.80       103\n",
      "           1       0.51      0.84      0.63        37\n",
      "\n",
      "    accuracy                           0.74       140\n",
      "   macro avg       0.72      0.77      0.72       140\n",
      "weighted avg       0.81      0.74      0.76       140\n",
      "\n"
     ]
    }
   ],
   "source": [
    "grid_search.best_estimator_.fit(X_train_val, y_train_val)\n",
    "y_pred = grid_search.best_estimator_.predict(X_test)\n",
    "print(classification_report(y_test, y_pred))"
   ]
  },
  {
   "cell_type": "markdown",
   "metadata": {},
   "source": [
    "Setelah hyperparameter tuning, nilai f1 menurun dari 0.67 ke 0.63"
   ]
  },
  {
   "cell_type": "code",
   "execution_count": null,
   "metadata": {},
   "outputs": [],
   "source": []
  }
 ],
 "metadata": {
  "kernelspec": {
   "display_name": "Python 3",
   "language": "python",
   "name": "python3"
  },
  "language_info": {
   "codemirror_mode": {
    "name": "ipython",
    "version": 3
   },
   "file_extension": ".py",
   "mimetype": "text/x-python",
   "name": "python",
   "nbconvert_exporter": "python",
   "pygments_lexer": "ipython3",
   "version": "3.8.5"
  }
 },
 "nbformat": 4,
 "nbformat_minor": 4
}
